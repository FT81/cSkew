{
 "cells": [
  {
   "cell_type": "markdown",
   "metadata": {},
   "source": [
    "$$\\text{CS}=\\frac{\\sum (d_i \\times w_i)}{\\sum d_i} \\text{ ,\\ where}\\\\\n",
    "w_i=(2\\times r_i - n)\\times3/n$$\n",
    "\t"
   ]
  },
  {
   "cell_type": "code",
   "execution_count": 14,
   "metadata": {},
   "outputs": [],
   "source": [
    "mu <- 1\n",
    "sigma <- 1\n",
    "N <- 30\n",
    "z<-rlnorm(N, mu, sigma) #lognormal distribution"
   ]
  },
  {
   "cell_type": "code",
   "execution_count": 15,
   "metadata": {},
   "outputs": [],
   "source": [
    "x<-seq(1:length(z))\n",
    "cp<-x/max(x) #cumulative proportions of x\n",
    "q<-sort(z)/sum(z) \n",
    "cq<-cumsum(q) #cumulative proportions of y\n",
    "distances<-cp-cq #distances between Lorenz curve and 34-degree line\n",
    "weights<-(2*x-length(z))*(3/length(z))  \n",
    "wdistances<-distances*weights #weighted distances\n",
    "wdsum<-sum(wdistances) #sum of weighted distances\n",
    "dsum<-sum(distances) #sum of unweighted distances\n",
    "cSkew<-wdsum/dsum "
   ]
  },
  {
   "cell_type": "code",
   "execution_count": 16,
   "metadata": {},
   "outputs": [
    {
     "data": {
      "text/html": [
       "0.321047171110852"
      ],
      "text/latex": [
       "0.321047171110852"
      ],
      "text/markdown": [
       "0.321047171110852"
      ],
      "text/plain": [
       "[1] 0.3210472"
      ]
     },
     "metadata": {},
     "output_type": "display_data"
    }
   ],
   "source": [
    "cSkew #Skewness based on the asymmetry of distances between cumulative proportions and the 45-degree line"
   ]
  },
  {
   "cell_type": "code",
   "execution_count": 17,
   "metadata": {},
   "outputs": [
    {
     "name": "stdout",
     "output_type": "stream",
     "text": [
      "\n",
      "  There is a binary version available but the source version is later:\n",
      "        binary source needs_compilation\n",
      "moments   0.14 0.14.1             FALSE\n",
      "\n"
     ]
    },
    {
     "name": "stderr",
     "output_type": "stream",
     "text": [
      "installing the source package 'moments'\n",
      "\n",
      "\n"
     ]
    },
    {
     "data": {
      "text/html": [
       "1.62083953838676"
      ],
      "text/latex": [
       "1.62083953838676"
      ],
      "text/markdown": [
       "1.62083953838676"
      ],
      "text/plain": [
       "[1] 1.62084"
      ]
     },
     "metadata": {},
     "output_type": "display_data"
    }
   ],
   "source": [
    "install.packages(\"moments\")\n",
    "library(moments)\n",
    "skewness(z)"
   ]
  },
  {
   "cell_type": "code",
   "execution_count": 18,
   "metadata": {},
   "outputs": [
    {
     "data": {
      "image/png": "[encoded data removed]",
      "text/plain": [
       "Plot with title \"Histogram\""
      ]
     },
     "metadata": {
      "image/png": {
       "height": 420,
       "width": 420
      }
     },
     "output_type": "display_data"
    }
   ],
   "source": [
    "hist(z,main=\"Histogram\",xlab=\"Abundance\",breaks=length(z)/3,col=\"darkmagenta\")"
   ]
  },
  {
   "cell_type": "code",
   "execution_count": 19,
   "metadata": {},
   "outputs": [
    {
     "data": {
      "image/png": "[encoded data removed]",
      "text/plain": [
       "plot without title"
      ]
     },
     "metadata": {
      "image/png": {
       "height": 420,
       "width": 420
      }
     },
     "output_type": "display_data"
    }
   ],
   "source": [
    "barplot(cumsum(q),names.arg=cp,xlab=\"Cumulative proportions of observations\",\n",
    "        ylab=\"Cumulative proportion of abundances\",col=\"darkblue\")"
   ]
  },
  {
   "cell_type": "code",
   "execution_count": null,
   "metadata": {},
   "outputs": [],
   "source": []
  },
  {
   "cell_type": "code",
   "execution_count": null,
   "metadata": {},
   "outputs": [],
   "source": []
  },
  {
   "cell_type": "code",
   "execution_count": null,
   "metadata": {},
   "outputs": [],
   "source": []
  }
 ],
 "metadata": {
  "kernelspec": {
   "display_name": "R",
   "language": "R",
   "name": "ir"
  },
  "language_info": {
   "codemirror_mode": "r",
   "file_extension": ".r",
   "mimetype": "text/x-r-source",
   "name": "R",
   "pygments_lexer": "r",
   "version": "3.6.3"
  }
 },
 "nbformat": 4,
 "nbformat_minor": 4
}
